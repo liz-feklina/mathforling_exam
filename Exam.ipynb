{
 "cells": [
  {
   "cell_type": "markdown",
   "metadata": {},
   "source": [
    "__Лиза Феклина, БКЛ-192__\n",
    "\n",
    "### Вариант 5\n",
    "Дан некоторый недетерминированный конечный автомат.\n",
    "Необходимо реализовать разбор строки при помощи этого автомата с учетом его недетерминированности.\n",
    "\n",
    "\n",
    "Мой недетерминированный автомат - язык состоит из последовательностей из букв и цифр, где между русскими и английскими буквами обязательно должны быть цифры"
   ]
  },
  {
   "cell_type": "code",
   "execution_count": 61,
   "metadata": {},
   "outputs": [],
   "source": [
    "import copy\n",
    "\n",
    "nfa = [[[0, 1, 2], 1, 2], [[0, 2], 1, -1], [[0, 1], -1, 2]]\n",
    "final = [0, 1, 1]\n",
    "\n",
    "def char2code(s):\n",
    "    if s >= '0' and s <='9':\n",
    "        return 0\n",
    "    elif s >= 'а' and s <='я':\n",
    "        return 1\n",
    "    elif s >= 'a' and s <= 'z':\n",
    "        return 2\n",
    "    else:\n",
    "        return -1\n",
    "\n",
    "def Identify(line):\n",
    "    states = [0]\n",
    "    new_states = []\n",
    "    for s in line:\n",
    "        #print(s)\n",
    "        s = char2code(s)\n",
    "        if s == -1 or len(states) == 0:\n",
    "            return False\n",
    "        for state in states:\n",
    "            #print(nfa[state][s])\n",
    "            if nfa[state][s] != -1:\n",
    "                if type(nfa[state][s]) == list:\n",
    "                    new_states.extend(nfa[state][s])\n",
    "                else:\n",
    "                    new_states.append(nfa[state][s])\n",
    "        new_states = list(set(new_states))\n",
    "        states = copy.deepcopy(new_states)\n",
    "        new_states = []\n",
    "        #print(states)\n",
    "    if len(states) == 0:\n",
    "        return False\n",
    "    for state in states:\n",
    "        if final[state] == 1:\n",
    "            return True\n",
    "    return False\n"
   ]
  },
  {
   "cell_type": "code",
   "execution_count": 62,
   "metadata": {},
   "outputs": [
    {
     "name": "stdout",
     "output_type": "stream",
     "text": [
      "True\n",
      "True\n",
      "True\n",
      "False\n",
      "True\n",
      "False\n",
      "True\n"
     ]
    }
   ],
   "source": [
    "print(Identify('123456'))\n",
    "print(Identify('xs43ва7'))\n",
    "print(Identify('ms43ва78'))\n",
    "print(Identify('s43ваz78')) # проблема, что есть подстрока из русских и английских букв\n",
    "print(Identify('2435uiui231ва32фыв11a'))\n",
    "print(Identify('')) # пустая строка не подходит, потому что состояние не конечное\n",
    "print(Identify('12qwsdcv345ыв1ц16м123'))"
   ]
  }
 ],
 "metadata": {
  "kernelspec": {
   "display_name": "Python 3",
   "language": "python",
   "name": "python3"
  },
  "language_info": {
   "codemirror_mode": {
    "name": "ipython",
    "version": 3
   },
   "file_extension": ".py",
   "mimetype": "text/x-python",
   "name": "python",
   "nbconvert_exporter": "python",
   "pygments_lexer": "ipython3",
   "version": "3.8.2"
  }
 },
 "nbformat": 4,
 "nbformat_minor": 4
}
